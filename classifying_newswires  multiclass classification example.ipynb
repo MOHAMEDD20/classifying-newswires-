{
 "cells": [
  {
   "cell_type": "code",
   "execution_count": 9,
   "metadata": {},
   "outputs": [],
   "source": [
    "from keras.datasets import reuters as ru "
   ]
  },
  {
   "cell_type": "code",
   "execution_count": 17,
   "metadata": {},
   "outputs": [],
   "source": [
    "(train_data , train_labels),(test_data , test_labels)=reuters.load_data(num_words=10000)"
   ]
  },
  {
   "cell_type": "code",
   "execution_count": 18,
   "metadata": {},
   "outputs": [
    {
     "name": "stdout",
     "output_type": "stream",
     "text": [
      "8982\n"
     ]
    }
   ],
   "source": [
    "print(len(train_data))"
   ]
  },
  {
   "cell_type": "code",
   "execution_count": 19,
   "metadata": {},
   "outputs": [
    {
     "data": {
      "text/plain": [
       "2246"
      ]
     },
     "execution_count": 19,
     "metadata": {},
     "output_type": "execute_result"
    }
   ],
   "source": [
    "len(test_data)"
   ]
  },
  {
   "cell_type": "code",
   "execution_count": 20,
   "metadata": {},
   "outputs": [],
   "source": [
    "#decoding newswires to text \n",
    "word_index = ru.get_word_index()\n",
    "reverse_word=dict([(value ,key) for (key , value) in word_index.items()])\n",
    "decode_news=' '.join([reverse_word.get(i-3, \"?\") for i in train_data[0]])"
   ]
  },
  {
   "cell_type": "code",
   "execution_count": 24,
   "metadata": {},
   "outputs": [],
   "source": [
    "#encoding the integer sequence into a binary matrix for \n",
    "import numpy as np \n",
    "def vect_seq (sequences,dimension=10000):\n",
    "    #creates an all zero matrix of shape((len(sequences), dimension))\n",
    "    result= np.zeros((len(sequences), dimension))\n",
    "    for i , sequence in enumerate(sequences):\n",
    "        #sets specific indices of results [i] to 1\n",
    "        result[i ,sequence]=1\n",
    "    return result \n",
    "\n",
    "#vectorize training and testing data\n",
    "x_train= vect_seq(train_data)\n",
    "x_test= vect_seq (test_data)"
   ]
  },
  {
   "cell_type": "code",
   "execution_count": 34,
   "metadata": {},
   "outputs": [],
   "source": [
    "#vectorize the labels \n",
    "\n",
    "def to_one_hot(labels , dimension=46):\n",
    "    result=np.zeros((len(labels),dimension))\n",
    "    for i ,label in enumerate(labels):\n",
    "        result[i , label]=1\n",
    "    return result\n",
    "\n",
    "#vectorize train and test data\n",
    "y_train=to_one_hot(train_labels)\n",
    "y_test=to_one_hot(test_labels)"
   ]
  },
  {
   "cell_type": "code",
   "execution_count": 40,
   "metadata": {},
   "outputs": [],
   "source": [
    "#Buliding the network \n",
    "from keras import models \n",
    "from keras import layers \n",
    "\n",
    "model=models.Sequential()\n",
    "model.add(layers.Dense(64, activation='relu' , input_shape=(10000,)))\n",
    "model.add(layers.Dense(64, activation='relu' ))\n",
    "model.add(layers.Dense(46, activation='softmax' ))"
   ]
  },
  {
   "cell_type": "code",
   "execution_count": 41,
   "metadata": {},
   "outputs": [],
   "source": [
    "#compiling the model\n",
    "model.compile(optimizer=\"rmsprop\" , loss='categorical_crossentropy' , metrics=[\"accuracy\"])"
   ]
  },
  {
   "cell_type": "code",
   "execution_count": 42,
   "metadata": {},
   "outputs": [],
   "source": [
    "#let's set apart 1000 samples in the training data to use as a validation set.\n",
    "x_val=x_train[:1000]\n",
    "partial_x_train=x_train[1000:]\n",
    "\n",
    "y_val=y_train[:1000]\n",
    "partial_y_train=y_train[1000:]"
   ]
  },
  {
   "cell_type": "code",
   "execution_count": 43,
   "metadata": {},
   "outputs": [
    {
     "name": "stdout",
     "output_type": "stream",
     "text": [
      "Epoch 1/20\n",
      "16/16 [==============================] - 25s 128ms/step - loss: 3.1773 - accuracy: 0.4224 - val_loss: 1.7750 - val_accuracy: 0.6400\n",
      "Epoch 2/20\n",
      "16/16 [==============================] - 1s 78ms/step - loss: 1.5392 - accuracy: 0.6889 - val_loss: 1.2965 - val_accuracy: 0.7200\n",
      "Epoch 3/20\n",
      "16/16 [==============================] - 1s 60ms/step - loss: 1.1047 - accuracy: 0.7728 - val_loss: 1.1234 - val_accuracy: 0.7460\n",
      "Epoch 4/20\n",
      "16/16 [==============================] - 1s 60ms/step - loss: 0.8453 - accuracy: 0.8231 - val_loss: 1.0270 - val_accuracy: 0.7820\n",
      "Epoch 5/20\n",
      "16/16 [==============================] - 1s 59ms/step - loss: 0.6648 - accuracy: 0.8692 - val_loss: 0.9594 - val_accuracy: 0.8020\n",
      "Epoch 6/20\n",
      "16/16 [==============================] - 1s 59ms/step - loss: 0.5375 - accuracy: 0.8926 - val_loss: 0.9136 - val_accuracy: 0.8080\n",
      "Epoch 7/20\n",
      "16/16 [==============================] - 1s 59ms/step - loss: 0.4338 - accuracy: 0.9124 - val_loss: 0.8980 - val_accuracy: 0.8040\n",
      "Epoch 8/20\n",
      "16/16 [==============================] - 1s 57ms/step - loss: 0.3535 - accuracy: 0.9255 - val_loss: 0.8714 - val_accuracy: 0.8220\n",
      "Epoch 9/20\n",
      "16/16 [==============================] - 1s 59ms/step - loss: 0.2865 - accuracy: 0.9425 - val_loss: 0.8907 - val_accuracy: 0.8130\n",
      "Epoch 10/20\n",
      "16/16 [==============================] - 1s 58ms/step - loss: 0.2485 - accuracy: 0.9445 - val_loss: 0.9137 - val_accuracy: 0.8110\n",
      "Epoch 11/20\n",
      "16/16 [==============================] - 1s 58ms/step - loss: 0.2005 - accuracy: 0.9541 - val_loss: 0.8908 - val_accuracy: 0.8240\n",
      "Epoch 12/20\n",
      "16/16 [==============================] - 1s 57ms/step - loss: 0.1866 - accuracy: 0.9544 - val_loss: 0.9317 - val_accuracy: 0.8130\n",
      "Epoch 13/20\n",
      "16/16 [==============================] - 1s 58ms/step - loss: 0.1569 - accuracy: 0.9576 - val_loss: 1.0170 - val_accuracy: 0.7990\n",
      "Epoch 14/20\n",
      "16/16 [==============================] - 1s 57ms/step - loss: 0.1490 - accuracy: 0.9579 - val_loss: 0.9381 - val_accuracy: 0.8120\n",
      "Epoch 15/20\n",
      "16/16 [==============================] - 1s 58ms/step - loss: 0.1325 - accuracy: 0.9625 - val_loss: 0.9892 - val_accuracy: 0.8090\n",
      "Epoch 16/20\n",
      "16/16 [==============================] - 1s 58ms/step - loss: 0.1208 - accuracy: 0.9621 - val_loss: 1.0053 - val_accuracy: 0.8030\n",
      "Epoch 17/20\n",
      "16/16 [==============================] - 1s 59ms/step - loss: 0.1233 - accuracy: 0.9574 - val_loss: 1.0140 - val_accuracy: 0.8040\n",
      "Epoch 18/20\n",
      "16/16 [==============================] - 1s 59ms/step - loss: 0.1160 - accuracy: 0.9624 - val_loss: 1.0064 - val_accuracy: 0.8080\n",
      "Epoch 19/20\n",
      "16/16 [==============================] - 1s 59ms/step - loss: 0.1032 - accuracy: 0.9627 - val_loss: 1.0342 - val_accuracy: 0.8080\n",
      "Epoch 20/20\n",
      "16/16 [==============================] - 1s 60ms/step - loss: 0.1012 - accuracy: 0.9610 - val_loss: 1.0985 - val_accuracy: 0.8000\n"
     ]
    }
   ],
   "source": [
    "#let's now train the network for 20 epochs\n",
    "#training the model \n",
    "history=model.fit(partial_x_train , partial_y_train ,epochs=20, batch_size=512,validation_data=(x_val , y_val))"
   ]
  },
  {
   "cell_type": "code",
   "execution_count": 45,
   "metadata": {},
   "outputs": [
    {
     "data": {
      "image/png": "[encoded data removed]",
      "text/plain": [
       "<Figure size 432x288 with 1 Axes>"
      ]
     },
     "metadata": {
      "needs_background": "light"
     },
     "output_type": "display_data"
    }
   ],
   "source": [
    "#finally display its loss and accuracy curves \n",
    "#plotting the training and validation loss \n",
    "history_dict=history.history\n",
    "import matplotlib.pyplot as plt \n",
    "loss=history_dict['loss']\n",
    "val_loss=history_dict['val_loss']\n",
    "acc=history_dict['accuracy']\n",
    "epochs=range(1 ,len(acc)+1)\n",
    "\n",
    "plt.plot(epochs , loss , 'bo' , label='Training loss')\n",
    "plt.plot(epochs , val_loss , 'b' , label='validation loss')\n",
    "plt.title(\"Training and validation Loss\")\n",
    "plt.xlabel(\"Epochs\")\n",
    "plt.ylabel(\"loss\")\n",
    "plt.legend()\n",
    "plt.show()"
   ]
  },
  {
   "cell_type": "code",
   "execution_count": 46,
   "metadata": {},
   "outputs": [
    {
     "data": {
      "image/png": "[encoded data removed]",
      "text/plain": [
       "<Figure size 432x288 with 1 Axes>"
      ]
     },
     "metadata": {
      "needs_background": "light"
     },
     "output_type": "display_data"
    }
   ],
   "source": [
    "#plotting training and validation accuracy \n",
    "plt.clf()\n",
    "acc=history_dict['accuracy']\n",
    "val_acc=history_dict['val_accuracy']\n",
    "plt.plot(epochs , acc , 'bo' , label='Training accuracy')\n",
    "plt.plot(epochs , val_acc , 'b' , label='validation accuracy')\n",
    "plt.title(\"Training and validation accuracy \")\n",
    "plt.xlabel(\"Epochs\")\n",
    "plt.ylabel(\"loss\")\n",
    "plt.legend()\n",
    "plt.show()"
   ]
  },
  {
   "cell_type": "code",
   "execution_count": null,
   "metadata": {},
   "outputs": [],
   "source": []
  }
 ],
 "metadata": {
  "kernelspec": {
   "display_name": "Python 3",
   "language": "python",
   "name": "python3"
  },
  "language_info": {
   "codemirror_mode": {
    "name": "ipython",
    "version": 3
   },
   "file_extension": ".py",
   "mimetype": "text/x-python",
   "name": "python",
   "nbconvert_exporter": "python",
   "pygments_lexer": "ipython3",
   "version": "3.8.5"
  }
 },
 "nbformat": 4,
 "nbformat_minor": 4
}
